{
 "cells": [
  {
   "cell_type": "code",
   "execution_count": null,
   "metadata": {},
   "outputs": [],
   "source": [
    "import torch\n",
    "from torchvision import models\n",
    "import torch_neuron\n",
    "from time import time\n",
    "import numpy as np\n",
    "import os\n",
    "\n",
    "\n",
    "num_cores = 2\n",
    "# os.environ['NEURON_RT_NUM_CORES'] = str(num_cores)\n",
    "\n",
    "image = torch.zeros([1, 3, 224, 224], dtype=torch.float32)\n",
    "model = models.resnet50(pretrained=True)\n",
    "model.eval()\n",
    "\n",
    "# model_neuron = torch.neuron.trace(model, example_inputs=[image])\n",
    "model_neuron = torch.neuron.trace(model, example_inputs=[image],compiler_args = ['--neuroncore-pipeline-cores', str(num_cores)])\n",
    "# model_neuron = torch.neuron.trace(model, example_inputs=[image],verbose=\"INFO\",compiler_args = ['--neuroncore-pipeline-cores', str(1)])\n",
    "model_neuron.save(\"./resnet50_neuron.pt\")\n"
   ]
  },
  {
   "cell_type": "code",
   "execution_count": null,
   "metadata": {},
   "outputs": [],
   "source": [
    "import torch\n",
    "from torchvision import models, transforms, datasets\n",
    "import torch_neuron\n",
    "from tqdm import tqdm\n",
    "# Create an example input for compilation\n",
    "image = torch.zeros([1, 3, 224, 224], dtype=torch.float32)\n",
    "\n",
    "# Load a pretrained ResNet50 model\n",
    "model = models.resnet50(pretrained=True)# Run inference using the CPU model\n",
    "\n",
    "# Load the compiled Neuron model\n",
    "\n",
    "model_list = []\n",
    "\n",
    "# model_ = torch.jit.load('./resnet50_neuron.pt')\n",
    "\n",
    "for i in tqdm(range(0,1000)):\n",
    "    model_list.append(torch.jit.load('./resnet50_neuron.pt'))\n",
    "\n",
    "# 41M "
   ]
  },
  {
   "cell_type": "code",
   "execution_count": null,
   "metadata": {},
   "outputs": [],
   "source": []
  }
 ],
 "metadata": {
  "language_info": {
   "name": "python"
  },
  "orig_nbformat": 4
 },
 "nbformat": 4,
 "nbformat_minor": 2
}
