{
 "cells": [
  {
   "cell_type": "code",
   "execution_count": 1,
   "metadata": {},
   "outputs": [],
   "source": [
    "import cv2\n",
    "import numpy as np\n",
    "\n",
    "\n",
    "    # if max(img.shape[0],img.shape[1]) > canvas_size:\n",
    "    #     rate = min((canvas_size / img.shape[0]),(canvas_size / img.shape[1]))\n",
    "    #     img = cv2.resize(img,(0,0),fx=rate,fy=rate)\n",
    "        \n",
    "canvas_size = 1280\n",
    "img = np.full((100,100),50,dtype=np.float32)  \n",
    "for x in range(1000,3000):\n",
    "    for y in range(1281,3000):\n",
    "        img = cv2.resize(img,dsize=(x,y))\n",
    "        if max(img.shape[0],img.shape[1]) > canvas_size:\n",
    "            rate = min((canvas_size / img.shape[0]),(canvas_size / img.shape[1]))\n",
    "            temp = cv2.resize(img,(0,0),fx=rate,fy=rate)\n",
    "            if max(temp.shape[0],temp.shape[1]) != canvas_size:\n",
    "                print(\"넘어갓따\",temp.shape)\n"
   ]
  }
 ],
 "metadata": {
  "kernelspec": {
   "display_name": "env",
   "language": "python",
   "name": "python3"
  },
  "language_info": {
   "codemirror_mode": {
    "name": "ipython",
    "version": 3
   },
   "file_extension": ".py",
   "mimetype": "text/x-python",
   "name": "python",
   "nbconvert_exporter": "python",
   "pygments_lexer": "ipython3",
   "version": "3.7.16"
  },
  "orig_nbformat": 4,
  "vscode": {
   "interpreter": {
    "hash": "fe69c0c716845746f893dd95b4726c4fc188651b81d791c24fb7995cc7d9f8ba"
   }
  }
 },
 "nbformat": 4,
 "nbformat_minor": 2
}
